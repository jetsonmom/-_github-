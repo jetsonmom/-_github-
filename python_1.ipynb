{
  "nbformat": 4,
  "nbformat_minor": 0,
  "metadata": {
    "colab": {
      "private_outputs": true,
      "provenance": [],
      "gpuType": "T4",
      "authorship_tag": "ABX9TyNrPE4drU32hHU7A/7Pda0P",
      "include_colab_link": true
    },
    "kernelspec": {
      "name": "python3",
      "display_name": "Python 3"
    },
    "language_info": {
      "name": "python"
    },
    "accelerator": "GPU"
  },
  "cells": [
    {
      "cell_type": "markdown",
      "metadata": {
        "id": "view-in-github",
        "colab_type": "text"
      },
      "source": [
        "<a href=\"https://colab.research.google.com/github/jetsonmom/-_github-/blob/main/python_1.ipynb\" target=\"_parent\"><img src=\"https://colab.research.google.com/assets/colab-badge.svg\" alt=\"Open In Colab\"/></a>"
      ]
    },
    {
      "cell_type": "markdown",
      "source": [
        "step1 w3school\n",
        "\n"
      ],
      "metadata": {
        "id": "EySvJTQju0ZQ"
      }
    },
    {
      "cell_type": "code",
      "execution_count": null,
      "metadata": {
        "id": "0zii1W1ItOo_"
      },
      "outputs": [],
      "source": [
        "print(\"hellow\")"
      ]
    },
    {
      "cell_type": "code",
      "source": [
        "# 구구단 프로그램\n",
        "\n",
        "# 사용자로부터 숫자 입력받기\n",
        "num = int(input(\"몇 단을 출력할까요? \"))\n",
        "\n",
        "# 구구단 출력\n",
        "print(f\"\\n=== {num}단 ===\")\n",
        "for i in range(1, 10):\n",
        "    result = num * i\n",
        "    print(f\"{num} x {i} = {result}\")"
      ],
      "metadata": {
        "id": "8S1LHvl-zzAo"
      },
      "execution_count": null,
      "outputs": []
    }
  ]
}